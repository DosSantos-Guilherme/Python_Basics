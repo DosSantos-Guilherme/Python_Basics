{
 "cells": [
  {
   "cell_type": "markdown",
   "metadata": {},
   "source": [
    "#### autor: \n",
    "Guilherme Rodrigues dos Santos\n",
    "#### data de criação: \n",
    "22/09/2024\n",
    "#### descrição: \n",
    "atividade aberta 2 para a disciplina ELT 572.\n"
   ]
  },
  {
   "cell_type": "markdown",
   "metadata": {},
   "source": [
    "# Questão 1\n",
    "Utilizando vetores e comando de repetição, crie um código que receba as notas de 5\n",
    "atividades, que será informada pelo usuário. Em seguida, faça a média das notas e\n",
    "imprima na tela a média e “Aluno aprovado!” caso a média seja superior ou igual a\n",
    "60,0 e “Aluno reprovado” caso a média seja inferior a 60,0."
   ]
  },
  {
   "cell_type": "code",
   "execution_count": 3,
   "metadata": {},
   "outputs": [
    {
     "name": "stdout",
     "output_type": "stream",
     "text": [
      "Aluno reprovado\n",
      "[23.2, 56.8, 61.7, 62.7, 33.3]\n",
      "47.54\n"
     ]
    }
   ],
   "source": [
    "nota_usuario = []\n",
    "media_nota_usuario = 0.0\n",
    "numero_de_notas = 5\n",
    "media_aprovacao = 60.0\n",
    "for i in range(numero_de_notas):\n",
    "    nota_usuario.append(float(input(f\"insira a nota {i+1}: \")))\n",
    "    media_nota_usuario+=nota_usuario[i]\n",
    "\n",
    "if (media_nota_usuario/numero_de_notas >= media_aprovacao):\n",
    "    print(\"Aluno aprovado!\")\n",
    "else:\n",
    "    print(\"Aluno reprovado\")\n",
    "\n",
    "print(nota_usuario)\n",
    "print(media_nota_usuario/numero_de_notas)"
   ]
  },
  {
   "cell_type": "code",
   "execution_count": 4,
   "metadata": {},
   "outputs": [
    {
     "name": "stdout",
     "output_type": "stream",
     "text": [
      "Aluno aprovado!\n",
      "[60.0, 61.5, 58.2, 55.1, 70.4]\n",
      "61.04\n"
     ]
    }
   ],
   "source": [
    "nota_usuario = []\n",
    "media_nota_usuario = 0.0\n",
    "numero_de_notas = 5\n",
    "media_aprovacao = 60.0\n",
    "for i in range(numero_de_notas):\n",
    "    nota_usuario.append(float(input(f\"insira a nota {i+1}: \")))\n",
    "    media_nota_usuario+=nota_usuario[i]\n",
    "\n",
    "if (media_nota_usuario/numero_de_notas >= media_aprovacao):\n",
    "    print(\"Aluno aprovado!\")\n",
    "else:\n",
    "    print(\"Aluno reprovado\")\n",
    "\n",
    "print(nota_usuario)\n",
    "print(media_nota_usuario/numero_de_notas)"
   ]
  },
  {
   "cell_type": "markdown",
   "metadata": {},
   "source": [
    "# Questão 2\n",
    "Crie um programa de repetição que receba uma matriz de tamanho 5x5 e imprima a\n",
    "soma de cada linha."
   ]
  },
  {
   "cell_type": "code",
   "execution_count": 5,
   "metadata": {},
   "outputs": [
    {
     "name": "stdout",
     "output_type": "stream",
     "text": [
      "Soma da linha 1= 25\n",
      "Soma da linha 2= 5\n",
      "Soma da linha 3= 10\n",
      "Soma da linha 4= 15\n",
      "Soma da linha 5= 20\n",
      "\n"
     ]
    }
   ],
   "source": [
    "matriz = [[5,5,5,5,5],[1,1,1,1,1],[2,2,2,2,2],[3,3,3,3,3],[4,4,4,4,4]]\n",
    "quantidadeLinhas = 5\n",
    "quantidadeColunas = 5\n",
    "string_resposta = \"\"\n",
    "for i in range(quantidadeLinhas):\n",
    "    soma_linha_matriz = 0\n",
    "    for j in range(quantidadeColunas):\n",
    "        soma_linha_matriz += matriz[i][j]\n",
    "    string_resposta += f\"Soma da linha {i+1}= \" + str(soma_linha_matriz) + \"\\n\" \n",
    "\n",
    "print(string_resposta)"
   ]
  },
  {
   "cell_type": "markdown",
   "metadata": {},
   "source": [
    "# Questão 3\n",
    "Crie uma função que receba dois inteiros ent1 e ent2 . Essa função deve imprimir\n",
    "todos os textos quando a condição for atendida:\n",
    "- “ent1 - ent2 é negativo”, *condição:* caso ent1 menos ent2 seja menor que zero,\n",
    "-“ent1 * ent2 é negativo”, *condição:* caso ent1 multiplicado por ent2 seja menor que\n",
    "zero,\n",
    "-“ent1 + ent2 é negativo”, *condição:* caso ent1 somado a ent2 seja menor que zero."
   ]
  },
  {
   "cell_type": "code",
   "execution_count": 8,
   "metadata": {},
   "outputs": [
    {
     "name": "stdout",
     "output_type": "stream",
     "text": [
      "-4 e 3\n",
      "\u001b[1m condição:\u001b[0m caso ent1 menos ent2 seja menor que zero\n",
      "\u001b[1m condição:\u001b[0m caso ent1 multiplicando ent2 seja menor que zero\n",
      "\u001b[1m condição:\u001b[0m caso ent1 somando ent2 seja menor que zero\n",
      "-2 e 3\n",
      "\u001b[1m condição:\u001b[0m caso ent1 menos ent2 seja menor que zero\n",
      "\u001b[1m condição:\u001b[0m caso ent1 multiplicando ent2 seja menor que zero\n",
      "-4 e -3\n",
      "\u001b[1m condição:\u001b[0m caso ent1 menos ent2 seja menor que zero\n",
      "\u001b[1m condição:\u001b[0m caso ent1 somando ent2 seja menor que zero\n"
     ]
    }
   ],
   "source": [
    "def condicaoVerdadeira(ent1,ent2):\n",
    "    if (ent1 - ent2) < 0:\n",
    "        print(\"\\033[1m condição:\\033[0m caso ent1 menos ent2 seja menor que zero\")\n",
    "    if (ent1 * ent2) < 0:\n",
    "        print(\"\\033[1m condição:\\033[0m caso ent1 multiplicando ent2 seja menor que zero\")\n",
    "    if (ent1 + ent2) < 0:\n",
    "        print(\"\\033[1m condição:\\033[0m caso ent1 somando ent2 seja menor que zero\")\n",
    "\n",
    "print(\"-4 e 3\")\n",
    "condicaoVerdadeira(-4,3)\n",
    "print(\"-2 e 3\")\n",
    "condicaoVerdadeira(-2,3)\n",
    "print(\"-4 e -3\")\n",
    "condicaoVerdadeira(-4,-3)"
   ]
  },
  {
   "cell_type": "markdown",
   "metadata": {},
   "source": [
    "# Questão 4\n",
    "Crie uma função que receba um caractere, uma string e o tamanho da string, essa\n",
    "função deve substituir os caracteres pares da string pelo caractere informado como\n",
    "parâmetro de entrada e retornar a nova string gerada."
   ]
  },
  {
   "cell_type": "code",
   "execution_count": 10,
   "metadata": {},
   "outputs": [
    {
     "name": "stdout",
     "output_type": "stream",
     "text": [
      "a vida é bela demais\n",
      "k kikakékbklk kekaks\n",
      "R RiRaRéRbRlR ReRaRs\n"
     ]
    }
   ],
   "source": [
    "def criptografa_mensagem(caractere,string_entrada,tamanho_da_string):\n",
    "    string_saida = \"\"\n",
    "    for i in range(tamanho_da_string):\n",
    "        char = string_entrada[i]\n",
    "        if i%2 == 0:\n",
    "            char = caractere\n",
    "        string_saida+=char\n",
    "    return string_saida\n",
    "string1 = \"a vida é bela demais\"\n",
    "print(string1)\n",
    "print(criptografa_mensagem(\"k\",string1,len(string1)))\n",
    "print(criptografa_mensagem(\"R\",string1,len(string1)))"
   ]
  }
 ],
 "metadata": {
  "kernelspec": {
   "display_name": "Python 3",
   "language": "python",
   "name": "python3"
  },
  "language_info": {
   "codemirror_mode": {
    "name": "ipython",
    "version": 3
   },
   "file_extension": ".py",
   "mimetype": "text/x-python",
   "name": "python",
   "nbconvert_exporter": "python",
   "pygments_lexer": "ipython3",
   "version": "3.10.12"
  }
 },
 "nbformat": 4,
 "nbformat_minor": 2
}
